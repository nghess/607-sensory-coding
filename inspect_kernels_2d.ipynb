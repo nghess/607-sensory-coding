{
 "cells": [
  {
   "cell_type": "code",
   "execution_count": 8,
   "metadata": {},
   "outputs": [],
   "source": [
    "import torch\n",
    "import torch.nn as nn\n",
    "import torch.nn.functional as F\n",
    "import matplotlib.pyplot as plt\n",
    "import numpy as np"
   ]
  },
  {
   "cell_type": "code",
   "execution_count": 9,
   "metadata": {},
   "outputs": [],
   "source": [
    "class ConvLSTMNetwork(nn.Module):\n",
    "    def __init__(self, num_frames, num_classes_rotation, num_classes_angle):\n",
    "        super(ConvLSTMNetwork, self).__init__()\n",
    "        # First Convolutional Layer\n",
    "        self.conv1 = nn.Conv2d(in_channels=1, out_channels=4, kernel_size=5, padding=2)\n",
    "        # Second Convolutional Layer\n",
    "        #self.conv2 = nn.Conv2d(in_channels=4, out_channels=8, kernel_size=5, padding=2)\n",
    "        # Third Convolutional Layer\n",
    "        self.conv3 = nn.Conv2d(in_channels=4, out_channels=8, kernel_size=11, padding=5)\n",
    "        # Dimensionality reduction layer\n",
    "        self.intermediate_fc = nn.Linear(im_fc_in, im_fc_out)\n",
    "        # Fully Connected Layers for classification\n",
    "        self.fc_rotation = nn.Linear(fc_in, num_classes_rotation)\n",
    "        self.fc_angle = nn.Linear(fc_in, num_classes_angle)\n",
    "        # Activation Functions\n",
    "        self.relu = nn.ReLU()\n",
    "    def forward(self, x):\n",
    "        # batch_size=4, num_frames=5, channels=1, height=128, width=128\n",
    "        batch_size, num_frames, channels, height, width = x.size()\n",
    "        # Process each frame through convolutional layers\n",
    "        conv_outputs = []\n",
    "        for t in range(num_frames):\n",
    "            # Extracting frame t from each stack in the batch\n",
    "            frame = x[:, t, :, :, :]\n",
    "            # Pass the frame through convolutional layers\n",
    "            out = self.relu(self.conv1(frame))\n",
    "            #out = self.relu(self.conv2(out))\n",
    "            out = self.relu(self.conv3(out))\n",
    "            # Flatten the output for FC layers\n",
    "            out = out.view(batch_size, -1) \n",
    "            #print(f\"conv2 output:{out.shape}\")\n",
    "            # Append output to list\n",
    "            conv_outputs.append(out)\n",
    "        # Concatenate the outputs along a specific dimension (e.g., 1)\n",
    "        x = torch.cat(conv_outputs, dim=1)\n",
    "        # Fully Connected Layers for classification\n",
    "        output_rotation = self.fc_rotation(x)\n",
    "        output_angle = self.fc_angle(x)\n",
    "\n",
    "        return output_rotation, output_angle"
   ]
  },
  {
   "cell_type": "code",
   "execution_count": 37,
   "metadata": {},
   "outputs": [
    {
     "data": {
      "text/plain": [
       "Simple3DCNN(\n",
       "  (conv1): Conv3d(1, 4, kernel_size=(3, 3, 3), stride=(1, 1, 1), padding=(1, 1, 1))\n",
       "  (conv2): Conv3d(4, 8, kernel_size=(5, 5, 5), stride=(1, 1, 1), padding=(2, 2, 2))\n",
       "  (conv3): Conv3d(8, 16, kernel_size=(7, 7, 7), stride=(1, 1, 1), padding=(3, 3, 3))\n",
       "  (pool): MaxPool3d(kernel_size=3, stride=1, padding=1, dilation=1, ceil_mode=False)\n",
       "  (fc1): Linear(in_features=1310720, out_features=512, bias=True)\n",
       "  (fc_rotation): Linear(in_features=512, out_features=2, bias=True)\n",
       "  (fc_orientation): Linear(in_features=512, out_features=36, bias=True)\n",
       ")"
      ]
     },
     "execution_count": 37,
     "metadata": {},
     "output_type": "execute_result"
    }
   ],
   "source": [
    "# Load the trained model\n",
    "model = torch.load('models/looped_2dcnn_3layer.pt')\n",
    "model.eval()  # Set the model to evaluation mode"
   ]
  },
  {
   "cell_type": "code",
   "execution_count": null,
   "metadata": {},
   "outputs": [
    {
     "data": {
      "image/png": "[encoded data removed]",
      "text/plain": [
       "<Figure size 1000x1000 with 16 Axes>"
      ]
     },
     "metadata": {},
     "output_type": "display_data"
    }
   ],
   "source": [
    "# Function to plot slices of 3D kernels\n",
    "def plot_3d_kernels(tensor, slice_num=0, num_cols=4):\n",
    "    if not tensor.ndim == 4:\n",
    "        raise Exception(\"Assumes a 4D tensor\")\n",
    "    \n",
    "    num_kernels = tensor.shape[0]\n",
    "    num_rows = 1 + num_kernels // num_cols\n",
    "    fig = plt.figure(figsize=(10, 10))\n",
    "    \n",
    "    for i in range(num_kernels):\n",
    "        ax = fig.add_subplot(4, 4, i + 1)\n",
    "        npimg = np.array(tensor[i, 1, slice_num, :, :].cpu().numpy(), np.float32)\n",
    "        npimg = (npimg - np.min(npimg)) / (np.max(npimg) - np.min(npimg))\n",
    "        ax.imshow(npimg, cmap='gray')\n",
    "        ax.axis('off')\n",
    "        ax.set_xticklabels([])\n",
    "        ax.set_yticklabels([])\n",
    "\n",
    "    plt.subplots_adjust(wspace=0.05, hspace=0.05)\n",
    "    plt.show()\n",
    "\n",
    "# Select a layer and a slice number\n",
    "conv_layer = model.conv3.weight.data\n",
    "slice_num = 0  # You can change this to visualize different slices\n",
    "\n",
    "# Visualize the kernels\n",
    "plot_3d_kernels(conv_layer, slice_num=slice_num)"
   ]
  }
 ],
 "metadata": {
  "kernelspec": {
   "display_name": "base",
   "language": "python",
   "name": "python3"
  },
  "language_info": {
   "codemirror_mode": {
    "name": "ipython",
    "version": 3
   },
   "file_extension": ".py",
   "mimetype": "text/x-python",
   "name": "python",
   "nbconvert_exporter": "python",
   "pygments_lexer": "ipython3",
   "version": "3.11.4"
  }
 },
 "nbformat": 4,
 "nbformat_minor": 2
}
